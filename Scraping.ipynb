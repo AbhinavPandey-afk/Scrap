{
 "cells": [
  {
   "cell_type": "code",
   "execution_count": 26,
   "id": "2e76073c-2929-44cb-9c57-8ce31790890d",
   "metadata": {},
   "outputs": [
    {
     "name": "stdout",
     "output_type": "stream",
     "text": [
      "Presentation PDF Link: https://www.citigroup.com/rcs/citigpa/storage/public/Earnings/Q12025/2025psqtr1rslt.pdf\n"
     ]
    }
   ],
   "source": [
    "from selenium import webdriver\n",
    "from selenium.webdriver.common.by import By\n",
    "import time\n",
    "\n",
    "driver = webdriver.Chrome()\n",
    "driver.get(\"https://www.citigroup.com/global/investors/quarterly-earnings\")\n",
    "driver.implicitly_wait(10)\n",
    "\n",
    "presentation_pdf_element = driver.find_element(\n",
    "    By.XPATH,\n",
    "    \"//div[contains(text(), 'Presentation')]/following-sibling::div//a[contains(@href, '.pdf')]\"\n",
    ")\n",
    "\n",
    "relative_link = presentation_pdf_element.get_attribute(\"href\")\n",
    "full_link = f\"https://www.citigroup.com{relative_link}\" if relative_link.startswith(\"/\") else relative_link\n",
    "\n",
    "print(\"Presentation PDF Link:\", full_link)\n",
    "\n",
    "driver.execute_script(f\"window.open('{full_link}', '_blank');\")\n",
    "\n",
    "time.sleep(5)\n",
    "\n",
    "# You can close the driver if needed\n",
    "# driver.quit()\n"
   ]
  },
  {
   "cell_type": "code",
   "execution_count": 27,
   "id": "8fef9ab4-d47a-4974-b908-255f5acbbf30",
   "metadata": {},
   "outputs": [],
   "source": [
    "import requests\n",
    "\n",
    "pdf_response = requests.get(full_link)\n",
    "with open(\"presentation.pdf\", \"wb\") as f:\n",
    "    f.write(pdf_response.content)\n"
   ]
  },
  {
   "cell_type": "code",
   "execution_count": null,
   "id": "e407def0-a9a1-4a9d-8001-03de3be50c86",
   "metadata": {},
   "outputs": [
    {
     "name": "stderr",
     "output_type": "stream",
     "text": [
      "CropBox missing from /Page, defaulting to MediaBox\n",
      "CropBox missing from /Page, defaulting to MediaBox\n",
      "CropBox missing from /Page, defaulting to MediaBox\n",
      "CropBox missing from /Page, defaulting to MediaBox\n",
      "CropBox missing from /Page, defaulting to MediaBox\n",
      "CropBox missing from /Page, defaulting to MediaBox\n",
      "CropBox missing from /Page, defaulting to MediaBox\n",
      "CropBox missing from /Page, defaulting to MediaBox\n",
      "CropBox missing from /Page, defaulting to MediaBox\n",
      "CropBox missing from /Page, defaulting to MediaBox\n",
      "CropBox missing from /Page, defaulting to MediaBox\n",
      "CropBox missing from /Page, defaulting to MediaBox\n",
      "CropBox missing from /Page, defaulting to MediaBox\n",
      "CropBox missing from /Page, defaulting to MediaBox\n",
      "CropBox missing from /Page, defaulting to MediaBox\n",
      "CropBox missing from /Page, defaulting to MediaBox\n",
      "CropBox missing from /Page, defaulting to MediaBox\n",
      "CropBox missing from /Page, defaulting to MediaBox\n",
      "CropBox missing from /Page, defaulting to MediaBox\n",
      "CropBox missing from /Page, defaulting to MediaBox\n",
      "CropBox missing from /Page, defaulting to MediaBox\n",
      "CropBox missing from /Page, defaulting to MediaBox\n",
      "CropBox missing from /Page, defaulting to MediaBox\n",
      "CropBox missing from /Page, defaulting to MediaBox\n",
      "CropBox missing from /Page, defaulting to MediaBox\n",
      "CropBox missing from /Page, defaulting to MediaBox\n",
      "CropBox missing from /Page, defaulting to MediaBox\n",
      "CropBox missing from /Page, defaulting to MediaBox\n",
      "CropBox missing from /Page, defaulting to MediaBox\n",
      "CropBox missing from /Page, defaulting to MediaBox\n",
      "CropBox missing from /Page, defaulting to MediaBox\n",
      "CropBox missing from /Page, defaulting to MediaBox\n",
      "CropBox missing from /Page, defaulting to MediaBox\n",
      "CropBox missing from /Page, defaulting to MediaBox\n",
      "CropBox missing from /Page, defaulting to MediaBox\n",
      "CropBox missing from /Page, defaulting to MediaBox\n",
      "CropBox missing from /Page, defaulting to MediaBox\n",
      "CropBox missing from /Page, defaulting to MediaBox\n",
      "CropBox missing from /Page, defaulting to MediaBox\n"
     ]
    }
   ],
   "source": [
    "import pdfplumber\n",
    "\n",
    "with pdfplumber.open(\"presentation.pdf\") as pdf:\n",
    "    for page in pdf.pages:\n",
    "        text = page.extract_text()\n",
    "        if \"Business Performance\" in text or \"Firm and Business Performance\" in text:\n",
    "            print(\"== Page Found ==\")\n",
    "            print(text)  # Optional: View full text to confirm structure\n",
    "            lines = text.split(\"\\n\")\n",
    "            for line in lines:\n",
    "                if \"Revenue\" in line:\n",
    "                    print(\"Revenue:\", line)\n",
    "                if \"Net Income\" in line or \"Net profit\" in line:\n",
    "                    print(\"Net Income:\", line)\n",
    "            break  # Stop after finding the relevant section\n"
   ]
  },
  {
   "cell_type": "code",
   "execution_count": null,
   "id": "457291d6-aab5-49d1-b97c-34d5e0298b26",
   "metadata": {},
   "outputs": [],
   "source": []
  }
 ],
 "metadata": {
  "kernelspec": {
   "display_name": "Python 3 (ipykernel)",
   "language": "python",
   "name": "python3"
  },
  "language_info": {
   "codemirror_mode": {
    "name": "ipython",
    "version": 3
   },
   "file_extension": ".py",
   "mimetype": "text/x-python",
   "name": "python",
   "nbconvert_exporter": "python",
   "pygments_lexer": "ipython3",
   "version": "3.11.7"
  }
 },
 "nbformat": 4,
 "nbformat_minor": 5
}
